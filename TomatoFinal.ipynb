{
 "cells": [
  {
   "cell_type": "code",
   "execution_count": 2,
   "id": "e10fc137",
   "metadata": {},
   "outputs": [],
   "source": [
    "import tensorflow as tf\n",
    "import matplotlib.pyplot as plt\n",
    "import pandas as pd\n",
    "import seaborn as sns"
   ]
  },
  {
   "cell_type": "code",
   "execution_count": 3,
   "id": "40b6d79b",
   "metadata": {},
   "outputs": [
    {
     "name": "stdout",
     "output_type": "stream",
     "text": [
      "Found 18345 files belonging to 10 classes.\n"
     ]
    }
   ],
   "source": [
    " training_set = tf.keras.utils.image_dataset_from_directory(\n",
    "    'train',\n",
    "    labels=\"inferred\",\n",
    "    label_mode=\"categorical\",\n",
    "    class_names=None,\n",
    "    color_mode=\"rgb\",\n",
    "    batch_size=32,\n",
    "    image_size=(128, 128),\n",
    "    shuffle=True,\n",
    "    seed=None,\n",
    "    validation_split=None,\n",
    "    subset=None,\n",
    "    interpolation=\"bilinear\",\n",
    "    follow_links=False,\n",
    "    crop_to_aspect_ratio=False,\n",
    "    \n",
    ")"
   ]
  },
  {
   "cell_type": "code",
   "execution_count": 4,
   "id": "ff1513ce",
   "metadata": {},
   "outputs": [
    {
     "name": "stdout",
     "output_type": "stream",
     "text": [
      "Found 4585 files belonging to 10 classes.\n"
     ]
    }
   ],
   "source": [
    "validation_set = tf.keras.utils.image_dataset_from_directory(\n",
    "    'valid',\n",
    "    labels=\"inferred\",\n",
    "    label_mode=\"categorical\",\n",
    "    class_names=None,\n",
    "    color_mode=\"rgb\",\n",
    "    batch_size=32,\n",
    "    image_size=(128, 128),\n",
    "    shuffle=True,\n",
    "    seed=None,\n",
    "    validation_split=None,\n",
    "    subset=None,\n",
    "    interpolation=\"bilinear\",\n",
    "    follow_links=False,\n",
    "    crop_to_aspect_ratio=False,\n",
    "    \n",
    ")"
   ]
  },
  {
   "cell_type": "code",
   "execution_count": 5,
   "id": "86cdae3d",
   "metadata": {},
   "outputs": [
    {
     "data": {
      "text/plain": [
       "<_PrefetchDataset element_spec=(TensorSpec(shape=(None, 128, 128, 3), dtype=tf.float32, name=None), TensorSpec(shape=(None, 10), dtype=tf.float32, name=None))>"
      ]
     },
     "execution_count": 5,
     "metadata": {},
     "output_type": "execute_result"
    }
   ],
   "source": [
    "training_set"
   ]
  },
  {
   "cell_type": "code",
   "execution_count": 6,
   "id": "e2b8d677",
   "metadata": {},
   "outputs": [
    {
     "name": "stdout",
     "output_type": "stream",
     "text": [
      "tf.Tensor(\n",
      "[[[[159.25 148.25 162.25]\n",
      "   [160.   149.   163.  ]\n",
      "   [160.75 149.75 163.75]\n",
      "   ...\n",
      "   [125.75 113.75 127.75]\n",
      "   [111.5   99.5  113.5 ]\n",
      "   [119.25 107.25 121.25]]\n",
      "\n",
      "  [[150.5  139.5  153.5 ]\n",
      "   [155.75 144.75 158.75]\n",
      "   [167.75 156.75 170.75]\n",
      "   ...\n",
      "   [127.5  115.5  129.5 ]\n",
      "   [144.5  132.5  146.5 ]\n",
      "   [137.25 125.25 139.25]]\n",
      "\n",
      "  [[157.25 146.25 160.25]\n",
      "   [153.5  142.5  156.5 ]\n",
      "   [163.   152.   166.  ]\n",
      "   ...\n",
      "   [131.75 119.75 133.75]\n",
      "   [107.    95.   109.  ]\n",
      "   [116.   104.   118.  ]]\n",
      "\n",
      "  ...\n",
      "\n",
      "  [[169.5  159.5  170.5 ]\n",
      "   [185.5  175.5  186.5 ]\n",
      "   [161.5  151.5  162.5 ]\n",
      "   ...\n",
      "   [128.25 116.25 128.25]\n",
      "   [143.   131.   143.  ]\n",
      "   [134.25 122.25 134.25]]\n",
      "\n",
      "  [[159.   149.   160.  ]\n",
      "   [158.5  148.5  159.5 ]\n",
      "   [179.   169.   180.  ]\n",
      "   ...\n",
      "   [140.   128.   140.  ]\n",
      "   [118.25 106.25 118.25]\n",
      "   [126.75 114.75 126.75]]\n",
      "\n",
      "  [[154.5  144.5  155.5 ]\n",
      "   [162.75 152.75 163.75]\n",
      "   [169.25 159.25 170.25]\n",
      "   ...\n",
      "   [138.75 126.75 138.75]\n",
      "   [136.25 124.25 136.25]\n",
      "   [120.   108.   120.  ]]]\n",
      "\n",
      "\n",
      " [[[190.75 182.75 180.75]\n",
      "   [170.5  162.5  160.5 ]\n",
      "   [157.5  149.5  147.5 ]\n",
      "   ...\n",
      "   [147.25 137.25 136.25]\n",
      "   [150.   141.   142.  ]\n",
      "   [160.25 151.25 152.25]]\n",
      "\n",
      "  [[162.75 154.75 152.75]\n",
      "   [183.75 175.75 173.75]\n",
      "   [164.5  156.5  154.5 ]\n",
      "   ...\n",
      "   [142.5  132.   131.25]\n",
      "   [143.25 132.75 132.  ]\n",
      "   [132.   121.5  120.75]]\n",
      "\n",
      "  [[180.   172.   170.  ]\n",
      "   [171.5  163.5  161.5 ]\n",
      "   [151.   143.   141.  ]\n",
      "   ...\n",
      "   [146.5  133.   133.  ]\n",
      "   [165.5  152.   152.  ]\n",
      "   [141.   127.5  127.5 ]]\n",
      "\n",
      "  ...\n",
      "\n",
      "  [[130.25 118.25 118.25]\n",
      "   [131.   119.   119.  ]\n",
      "   [133.5  119.5  119.5 ]\n",
      "   ...\n",
      "   [123.   109.   108.  ]\n",
      "   [114.25 100.25  99.25]\n",
      "   [123.5  109.5  108.5 ]]\n",
      "\n",
      "  [[123.25 111.25 111.25]\n",
      "   [131.75 119.75 119.75]\n",
      "   [135.25 121.25 121.25]\n",
      "   ...\n",
      "   [132.75 118.75 117.75]\n",
      "   [125.5  111.5  110.5 ]\n",
      "   [131.25 117.25 116.25]]\n",
      "\n",
      "  [[136.   124.   124.  ]\n",
      "   [135.25 123.25 123.25]\n",
      "   [133.75 119.75 119.75]\n",
      "   ...\n",
      "   [127.5  113.5  112.5 ]\n",
      "   [129.25 115.25 114.25]\n",
      "   [149.25 135.25 134.25]]]\n",
      "\n",
      "\n",
      " [[[ 67.75  63.75  64.75]\n",
      "   [118.25 114.25 113.25]\n",
      "   [118.   114.   113.  ]\n",
      "   ...\n",
      "   [138.25 127.25 125.25]\n",
      "   [135.5  124.5  122.5 ]\n",
      "   [135.25 124.25 122.25]]\n",
      "\n",
      "  [[ 50.5   48.5   49.5 ]\n",
      "   [ 94.75  90.75  89.75]\n",
      "   [134.5  130.5  129.5 ]\n",
      "   ...\n",
      "   [139.75 128.75 126.75]\n",
      "   [120.75 109.75 107.75]\n",
      "   [130.75 119.75 117.75]]\n",
      "\n",
      "  [[ 46.75  46.75  46.75]\n",
      "   [ 71.75  69.75  70.75]\n",
      "   [133.25 129.25 129.75]\n",
      "   ...\n",
      "   [135.   124.   122.  ]\n",
      "   [145.   134.   132.  ]\n",
      "   [135.75 124.75 122.75]]\n",
      "\n",
      "  ...\n",
      "\n",
      "  [[145.25 137.25 135.25]\n",
      "   [141.75 133.75 131.75]\n",
      "   [128.75 120.75 118.75]\n",
      "   ...\n",
      "   [165.75 155.75 153.75]\n",
      "   [150.5  140.5  138.5 ]\n",
      "   [168.5  158.5  156.5 ]]\n",
      "\n",
      "  [[146.5  138.5  136.5 ]\n",
      "   [125.5  117.5  115.5 ]\n",
      "   [121.75 113.75 111.75]\n",
      "   ...\n",
      "   [156.25 146.25 144.25]\n",
      "   [166.75 156.75 154.75]\n",
      "   [164.25 154.25 152.25]]\n",
      "\n",
      "  [[159.   151.   149.  ]\n",
      "   [140.   132.   130.  ]\n",
      "   [143.25 135.25 133.25]\n",
      "   ...\n",
      "   [151.   141.   139.  ]\n",
      "   [148.5  138.5  136.5 ]\n",
      "   [146.25 136.25 134.25]]]\n",
      "\n",
      "\n",
      " ...\n",
      "\n",
      "\n",
      " [[[139.   129.   128.  ]\n",
      "   [131.25 121.25 120.25]\n",
      "   [131.   121.   120.  ]\n",
      "   ...\n",
      "   [169.25 164.25 161.25]\n",
      "   [168.75 163.75 160.75]\n",
      "   [172.25 167.25 164.25]]\n",
      "\n",
      "  [[131.5  121.5  120.5 ]\n",
      "   [138.25 128.25 127.25]\n",
      "   [125.5  115.5  114.5 ]\n",
      "   ...\n",
      "   [173.75 168.75 165.75]\n",
      "   [168.75 163.75 160.75]\n",
      "   [166.   161.   158.  ]]\n",
      "\n",
      "  [[122.75 112.75 111.75]\n",
      "   [123.5  113.5  112.5 ]\n",
      "   [128.25 118.25 117.25]\n",
      "   ...\n",
      "   [168.5  163.5  160.5 ]\n",
      "   [172.75 167.75 164.75]\n",
      "   [166.5  161.5  158.5 ]]\n",
      "\n",
      "  ...\n",
      "\n",
      "  [[136.   126.   127.  ]\n",
      "   [128.25 118.25 119.25]\n",
      "   [132.25 122.25 123.25]\n",
      "   ...\n",
      "   [164.   158.   162.  ]\n",
      "   [160.5  154.5  158.5 ]\n",
      "   [166.75 160.75 164.75]]\n",
      "\n",
      "  [[133.75 122.75 126.75]\n",
      "   [130.25 119.25 123.25]\n",
      "   [144.25 133.25 137.25]\n",
      "   ...\n",
      "   [170.   164.   168.  ]\n",
      "   [173.5  167.5  171.5 ]\n",
      "   [171.5  165.5  169.5 ]]\n",
      "\n",
      "  [[129.5  118.5  122.5 ]\n",
      "   [127.75 116.75 120.75]\n",
      "   [144.25 133.25 137.25]\n",
      "   ...\n",
      "   [167.5  161.5  165.5 ]\n",
      "   [172.75 166.75 170.75]\n",
      "   [170.5  164.5  168.5 ]]]\n",
      "\n",
      "\n",
      " [[[143.75 141.75 146.75]\n",
      "   [134.25 132.25 137.25]\n",
      "   [136.   134.   139.  ]\n",
      "   ...\n",
      "   [144.25 142.25 147.25]\n",
      "   [132.5  130.5  135.5 ]\n",
      "   [133.5  131.5  136.5 ]]\n",
      "\n",
      "  [[141.75 139.75 144.75]\n",
      "   [135.25 133.25 138.25]\n",
      "   [137.75 135.75 140.75]\n",
      "   ...\n",
      "   [137.75 135.75 140.75]\n",
      "   [125.5  123.5  128.5 ]\n",
      "   [143.75 141.75 146.75]]\n",
      "\n",
      "  [[145.25 143.25 148.25]\n",
      "   [139.   137.   142.  ]\n",
      "   [138.   136.   141.  ]\n",
      "   ...\n",
      "   [143.25 141.25 146.25]\n",
      "   [138.5  136.5  141.5 ]\n",
      "   [141.5  139.5  144.5 ]]\n",
      "\n",
      "  ...\n",
      "\n",
      "  [[ 88.    98.    99.  ]\n",
      "   [ 71.5   81.5   82.5 ]\n",
      "   [ 74.5   84.5   85.5 ]\n",
      "   ...\n",
      "   [ 88.    98.   100.  ]\n",
      "   [ 78.5   88.5   90.5 ]\n",
      "   [ 86.    96.    98.  ]]\n",
      "\n",
      "  [[ 85.    95.    96.  ]\n",
      "   [ 83.    93.    94.  ]\n",
      "   [ 82.    92.    93.  ]\n",
      "   ...\n",
      "   [ 78.25  88.25  90.25]\n",
      "   [ 89.75  99.75 101.75]\n",
      "   [ 79.5   89.5   91.5 ]]\n",
      "\n",
      "  [[ 76.25  86.25  87.25]\n",
      "   [ 76.    86.    87.  ]\n",
      "   [ 66.25  76.25  77.25]\n",
      "   ...\n",
      "   [ 88.5   98.5  100.5 ]\n",
      "   [ 84.5   94.5   96.5 ]\n",
      "   [ 79.75  89.75  91.75]]]\n",
      "\n",
      "\n",
      " [[[104.    95.    98.  ]\n",
      "   [110.25 101.25 104.25]\n",
      "   [114.5  105.5  108.5 ]\n",
      "   ...\n",
      "   [127.25 122.25 126.25]\n",
      "   [131.5  126.5  130.5 ]\n",
      "   [128.5  123.5  127.5 ]]\n",
      "\n",
      "  [[112.25 103.25 106.25]\n",
      "   [110.75 101.75 104.75]\n",
      "   [112.   103.   106.  ]\n",
      "   ...\n",
      "   [129.   124.   128.  ]\n",
      "   [131.5  126.5  130.5 ]\n",
      "   [129.75 124.75 128.75]]\n",
      "\n",
      "  [[106.    97.   100.  ]\n",
      "   [114.   105.   108.  ]\n",
      "   [115.25 106.25 109.25]\n",
      "   ...\n",
      "   [132.25 127.25 131.25]\n",
      "   [131.5  126.5  130.5 ]\n",
      "   [132.   127.   131.  ]]\n",
      "\n",
      "  ...\n",
      "\n",
      "  [[ 74.25  68.25  70.25]\n",
      "   [ 74.5   68.5   70.5 ]\n",
      "   [ 73.    67.    69.  ]\n",
      "   ...\n",
      "   [115.5  111.5  112.5 ]\n",
      "   [115.5  111.5  112.5 ]\n",
      "   [117.75 113.75 114.75]]\n",
      "\n",
      "  [[ 74.    68.    70.  ]\n",
      "   [ 76.    70.    72.  ]\n",
      "   [ 77.5   71.5   73.5 ]\n",
      "   ...\n",
      "   [114.5  110.5  111.5 ]\n",
      "   [114.5  110.5  111.5 ]\n",
      "   [114.75 110.75 111.75]]\n",
      "\n",
      "  [[ 71.    65.    67.  ]\n",
      "   [ 72.5   66.5   68.5 ]\n",
      "   [ 74.    68.    70.  ]\n",
      "   ...\n",
      "   [113.   109.   110.  ]\n",
      "   [113.   109.   110.  ]\n",
      "   [112.25 108.25 109.25]]]], shape=(32, 128, 128, 3), dtype=float32) (32, 128, 128, 3)\n",
      "tf.Tensor(\n",
      "[[0. 0. 0. 0. 0. 0. 0. 0. 1. 0.]\n",
      " [0. 0. 0. 1. 0. 0. 0. 0. 0. 0.]\n",
      " [0. 0. 0. 0. 0. 0. 0. 1. 0. 0.]\n",
      " [0. 0. 0. 0. 1. 0. 0. 0. 0. 0.]\n",
      " [0. 0. 0. 0. 1. 0. 0. 0. 0. 0.]\n",
      " [0. 0. 0. 0. 0. 0. 0. 0. 1. 0.]\n",
      " [0. 0. 0. 0. 0. 0. 0. 1. 0. 0.]\n",
      " [0. 0. 0. 0. 0. 0. 0. 1. 0. 0.]\n",
      " [0. 0. 0. 0. 0. 0. 0. 1. 0. 0.]\n",
      " [0. 0. 0. 0. 0. 0. 0. 0. 0. 1.]\n",
      " [0. 0. 0. 0. 0. 0. 0. 0. 0. 1.]\n",
      " [0. 1. 0. 0. 0. 0. 0. 0. 0. 0.]\n",
      " [0. 0. 0. 0. 1. 0. 0. 0. 0. 0.]\n",
      " [0. 0. 0. 0. 1. 0. 0. 0. 0. 0.]\n",
      " [0. 0. 0. 0. 0. 1. 0. 0. 0. 0.]\n",
      " [0. 0. 0. 0. 0. 0. 0. 1. 0. 0.]\n",
      " [0. 1. 0. 0. 0. 0. 0. 0. 0. 0.]\n",
      " [1. 0. 0. 0. 0. 0. 0. 0. 0. 0.]\n",
      " [0. 0. 0. 0. 0. 0. 1. 0. 0. 0.]\n",
      " [0. 0. 0. 0. 0. 0. 0. 1. 0. 0.]\n",
      " [0. 0. 0. 0. 0. 1. 0. 0. 0. 0.]\n",
      " [1. 0. 0. 0. 0. 0. 0. 0. 0. 0.]\n",
      " [0. 0. 0. 0. 0. 0. 1. 0. 0. 0.]\n",
      " [0. 0. 0. 0. 0. 0. 1. 0. 0. 0.]\n",
      " [0. 0. 0. 0. 0. 0. 0. 0. 0. 1.]\n",
      " [0. 0. 0. 0. 1. 0. 0. 0. 0. 0.]\n",
      " [0. 1. 0. 0. 0. 0. 0. 0. 0. 0.]\n",
      " [0. 0. 0. 1. 0. 0. 0. 0. 0. 0.]\n",
      " [0. 0. 1. 0. 0. 0. 0. 0. 0. 0.]\n",
      " [1. 0. 0. 0. 0. 0. 0. 0. 0. 0.]\n",
      " [0. 0. 0. 0. 0. 0. 0. 0. 0. 1.]\n",
      " [0. 0. 1. 0. 0. 0. 0. 0. 0. 0.]], shape=(32, 10), dtype=float32) (32, 10)\n"
     ]
    }
   ],
   "source": [
    "for x,y in training_set:\n",
    "    print(x,x.shape)\n",
    "    print(y,y.shape)\n",
    "    break"
   ]
  },
  {
   "cell_type": "code",
   "execution_count": 78,
   "id": "31705a73",
   "metadata": {},
   "outputs": [],
   "source": [
    "from tensorflow.keras.layers import Dense,Conv2D,MaxPool2D,Flatten,Dropout\n",
    "from tensorflow.keras.models import Sequential"
   ]
  },
  {
   "cell_type": "code",
   "execution_count": 79,
   "id": "50eb69b6",
   "metadata": {},
   "outputs": [],
   "source": [
    "model = Sequential()"
   ]
  },
  {
   "cell_type": "code",
   "execution_count": 80,
   "id": "f45aae50",
   "metadata": {},
   "outputs": [],
   "source": [
    "# Building Convulation layer\n",
    "model.add(Conv2D(filters = 32,kernel_size = 3,padding = 'same',activation='relu',input_shape = [128,128,3]))\n",
    "model.add(Conv2D(filters = 32,kernel_size = 3,activation='relu'))\n",
    "model.add(MaxPool2D(pool_size = 2,strides = 2))"
   ]
  },
  {
   "cell_type": "code",
   "execution_count": 81,
   "id": "038ac0c3",
   "metadata": {},
   "outputs": [],
   "source": [
    "model.add(Conv2D(filters = 64,kernel_size = 3,padding = 'same',activation='relu'))\n",
    "model.add(Conv2D(filters = 64,kernel_size = 3,activation='relu'))\n",
    "model.add(MaxPool2D(pool_size = 2,strides = 2))"
   ]
  },
  {
   "cell_type": "code",
   "execution_count": 82,
   "id": "a802b009",
   "metadata": {},
   "outputs": [],
   "source": [
    "model.add(Conv2D(filters = 128,kernel_size = 3,padding = 'same',activation='relu'))\n",
    "model.add(Conv2D(filters = 128,kernel_size = 3,activation='relu'))\n",
    "model.add(MaxPool2D(pool_size = 2,strides = 2))"
   ]
  },
  {
   "cell_type": "code",
   "execution_count": 83,
   "id": "0227fd30",
   "metadata": {},
   "outputs": [],
   "source": [
    "model.add(Conv2D(filters = 256,kernel_size = 3,padding = 'same',activation='relu'))\n",
    "model.add(Conv2D(filters = 256,kernel_size = 3,activation='relu'))\n",
    "model.add(MaxPool2D(pool_size = 2,strides = 2))"
   ]
  },
  {
   "cell_type": "code",
   "execution_count": 84,
   "id": "820ac304",
   "metadata": {},
   "outputs": [],
   "source": [
    "model.add(Conv2D(filters = 512,kernel_size = 3,padding = 'same',activation='relu'))\n",
    "model.add(Conv2D(filters = 512,kernel_size = 3,activation='relu'))\n",
    "model.add(MaxPool2D(pool_size = 2,strides = 2))"
   ]
  },
  {
   "cell_type": "code",
   "execution_count": 85,
   "id": "da73e9e7",
   "metadata": {},
   "outputs": [],
   "source": [
    "model.add(Dropout(0.25)) #To avoid Overfitting"
   ]
  },
  {
   "cell_type": "code",
   "execution_count": 86,
   "id": "2440eda8",
   "metadata": {},
   "outputs": [],
   "source": [
    "model.add(Flatten())"
   ]
  },
  {
   "cell_type": "code",
   "execution_count": 87,
   "id": "7c427de8",
   "metadata": {},
   "outputs": [],
   "source": [
    "model.add(Dense(units = 1500,activation = 'relu'))"
   ]
  },
  {
   "cell_type": "code",
   "execution_count": 88,
   "id": "c902caf5",
   "metadata": {},
   "outputs": [],
   "source": [
    "model.add(Dropout(0.4))"
   ]
  },
  {
   "cell_type": "code",
   "execution_count": 89,
   "id": "9028ab8a",
   "metadata": {},
   "outputs": [],
   "source": [
    "# Output Layer\n",
    "model.add(Dense(units=10,activation='softmax'))"
   ]
  },
  {
   "cell_type": "code",
   "execution_count": 90,
   "id": "771c53c4",
   "metadata": {},
   "outputs": [],
   "source": [
    "# Compiling Model  # Helps in model overshooting\n",
    "model.compile(optimizer=tf.keras.optimizers.Adam(learning_rate=0.0001),loss='categorical_crossentropy',metrics=['accuracy'])"
   ]
  },
  {
   "cell_type": "code",
   "execution_count": 91,
   "id": "98b070ef",
   "metadata": {},
   "outputs": [
    {
     "data": {
      "text/html": [
       "<pre style=\"white-space:pre;overflow-x:auto;line-height:normal;font-family:Menlo,'DejaVu Sans Mono',consolas,'Courier New',monospace\"><span style=\"font-weight: bold\">Model: \"sequential_4\"</span>\n",
       "</pre>\n"
      ],
      "text/plain": [
       "\u001b[1mModel: \"sequential_4\"\u001b[0m\n"
      ]
     },
     "metadata": {},
     "output_type": "display_data"
    },
    {
     "data": {
      "text/html": [
       "<pre style=\"white-space:pre;overflow-x:auto;line-height:normal;font-family:Menlo,'DejaVu Sans Mono',consolas,'Courier New',monospace\">┏━━━━━━━━━━━━━━━━━━━━━━━━━━━━━━━━━━━━━━┳━━━━━━━━━━━━━━━━━━━━━━━━━━━━━┳━━━━━━━━━━━━━━━━━┓\n",
       "┃<span style=\"font-weight: bold\"> Layer (type)                         </span>┃<span style=\"font-weight: bold\"> Output Shape                </span>┃<span style=\"font-weight: bold\">         Param # </span>┃\n",
       "┡━━━━━━━━━━━━━━━━━━━━━━━━━━━━━━━━━━━━━━╇━━━━━━━━━━━━━━━━━━━━━━━━━━━━━╇━━━━━━━━━━━━━━━━━┩\n",
       "│ conv2d_40 (<span style=\"color: #0087ff; text-decoration-color: #0087ff\">Conv2D</span>)                   │ (<span style=\"color: #00d7ff; text-decoration-color: #00d7ff\">None</span>, <span style=\"color: #00af00; text-decoration-color: #00af00\">128</span>, <span style=\"color: #00af00; text-decoration-color: #00af00\">128</span>, <span style=\"color: #00af00; text-decoration-color: #00af00\">32</span>)        │             <span style=\"color: #00af00; text-decoration-color: #00af00\">896</span> │\n",
       "├──────────────────────────────────────┼─────────────────────────────┼─────────────────┤\n",
       "│ conv2d_41 (<span style=\"color: #0087ff; text-decoration-color: #0087ff\">Conv2D</span>)                   │ (<span style=\"color: #00d7ff; text-decoration-color: #00d7ff\">None</span>, <span style=\"color: #00af00; text-decoration-color: #00af00\">126</span>, <span style=\"color: #00af00; text-decoration-color: #00af00\">126</span>, <span style=\"color: #00af00; text-decoration-color: #00af00\">32</span>)        │           <span style=\"color: #00af00; text-decoration-color: #00af00\">9,248</span> │\n",
       "├──────────────────────────────────────┼─────────────────────────────┼─────────────────┤\n",
       "│ max_pooling2d_20 (<span style=\"color: #0087ff; text-decoration-color: #0087ff\">MaxPooling2D</span>)      │ (<span style=\"color: #00d7ff; text-decoration-color: #00d7ff\">None</span>, <span style=\"color: #00af00; text-decoration-color: #00af00\">63</span>, <span style=\"color: #00af00; text-decoration-color: #00af00\">63</span>, <span style=\"color: #00af00; text-decoration-color: #00af00\">32</span>)          │               <span style=\"color: #00af00; text-decoration-color: #00af00\">0</span> │\n",
       "├──────────────────────────────────────┼─────────────────────────────┼─────────────────┤\n",
       "│ conv2d_42 (<span style=\"color: #0087ff; text-decoration-color: #0087ff\">Conv2D</span>)                   │ (<span style=\"color: #00d7ff; text-decoration-color: #00d7ff\">None</span>, <span style=\"color: #00af00; text-decoration-color: #00af00\">63</span>, <span style=\"color: #00af00; text-decoration-color: #00af00\">63</span>, <span style=\"color: #00af00; text-decoration-color: #00af00\">64</span>)          │          <span style=\"color: #00af00; text-decoration-color: #00af00\">18,496</span> │\n",
       "├──────────────────────────────────────┼─────────────────────────────┼─────────────────┤\n",
       "│ conv2d_43 (<span style=\"color: #0087ff; text-decoration-color: #0087ff\">Conv2D</span>)                   │ (<span style=\"color: #00d7ff; text-decoration-color: #00d7ff\">None</span>, <span style=\"color: #00af00; text-decoration-color: #00af00\">61</span>, <span style=\"color: #00af00; text-decoration-color: #00af00\">61</span>, <span style=\"color: #00af00; text-decoration-color: #00af00\">64</span>)          │          <span style=\"color: #00af00; text-decoration-color: #00af00\">36,928</span> │\n",
       "├──────────────────────────────────────┼─────────────────────────────┼─────────────────┤\n",
       "│ max_pooling2d_21 (<span style=\"color: #0087ff; text-decoration-color: #0087ff\">MaxPooling2D</span>)      │ (<span style=\"color: #00d7ff; text-decoration-color: #00d7ff\">None</span>, <span style=\"color: #00af00; text-decoration-color: #00af00\">30</span>, <span style=\"color: #00af00; text-decoration-color: #00af00\">30</span>, <span style=\"color: #00af00; text-decoration-color: #00af00\">64</span>)          │               <span style=\"color: #00af00; text-decoration-color: #00af00\">0</span> │\n",
       "├──────────────────────────────────────┼─────────────────────────────┼─────────────────┤\n",
       "│ conv2d_44 (<span style=\"color: #0087ff; text-decoration-color: #0087ff\">Conv2D</span>)                   │ (<span style=\"color: #00d7ff; text-decoration-color: #00d7ff\">None</span>, <span style=\"color: #00af00; text-decoration-color: #00af00\">30</span>, <span style=\"color: #00af00; text-decoration-color: #00af00\">30</span>, <span style=\"color: #00af00; text-decoration-color: #00af00\">128</span>)         │          <span style=\"color: #00af00; text-decoration-color: #00af00\">73,856</span> │\n",
       "├──────────────────────────────────────┼─────────────────────────────┼─────────────────┤\n",
       "│ conv2d_45 (<span style=\"color: #0087ff; text-decoration-color: #0087ff\">Conv2D</span>)                   │ (<span style=\"color: #00d7ff; text-decoration-color: #00d7ff\">None</span>, <span style=\"color: #00af00; text-decoration-color: #00af00\">28</span>, <span style=\"color: #00af00; text-decoration-color: #00af00\">28</span>, <span style=\"color: #00af00; text-decoration-color: #00af00\">128</span>)         │         <span style=\"color: #00af00; text-decoration-color: #00af00\">147,584</span> │\n",
       "├──────────────────────────────────────┼─────────────────────────────┼─────────────────┤\n",
       "│ max_pooling2d_22 (<span style=\"color: #0087ff; text-decoration-color: #0087ff\">MaxPooling2D</span>)      │ (<span style=\"color: #00d7ff; text-decoration-color: #00d7ff\">None</span>, <span style=\"color: #00af00; text-decoration-color: #00af00\">14</span>, <span style=\"color: #00af00; text-decoration-color: #00af00\">14</span>, <span style=\"color: #00af00; text-decoration-color: #00af00\">128</span>)         │               <span style=\"color: #00af00; text-decoration-color: #00af00\">0</span> │\n",
       "├──────────────────────────────────────┼─────────────────────────────┼─────────────────┤\n",
       "│ conv2d_46 (<span style=\"color: #0087ff; text-decoration-color: #0087ff\">Conv2D</span>)                   │ (<span style=\"color: #00d7ff; text-decoration-color: #00d7ff\">None</span>, <span style=\"color: #00af00; text-decoration-color: #00af00\">14</span>, <span style=\"color: #00af00; text-decoration-color: #00af00\">14</span>, <span style=\"color: #00af00; text-decoration-color: #00af00\">256</span>)         │         <span style=\"color: #00af00; text-decoration-color: #00af00\">295,168</span> │\n",
       "├──────────────────────────────────────┼─────────────────────────────┼─────────────────┤\n",
       "│ conv2d_47 (<span style=\"color: #0087ff; text-decoration-color: #0087ff\">Conv2D</span>)                   │ (<span style=\"color: #00d7ff; text-decoration-color: #00d7ff\">None</span>, <span style=\"color: #00af00; text-decoration-color: #00af00\">12</span>, <span style=\"color: #00af00; text-decoration-color: #00af00\">12</span>, <span style=\"color: #00af00; text-decoration-color: #00af00\">256</span>)         │         <span style=\"color: #00af00; text-decoration-color: #00af00\">590,080</span> │\n",
       "├──────────────────────────────────────┼─────────────────────────────┼─────────────────┤\n",
       "│ max_pooling2d_23 (<span style=\"color: #0087ff; text-decoration-color: #0087ff\">MaxPooling2D</span>)      │ (<span style=\"color: #00d7ff; text-decoration-color: #00d7ff\">None</span>, <span style=\"color: #00af00; text-decoration-color: #00af00\">6</span>, <span style=\"color: #00af00; text-decoration-color: #00af00\">6</span>, <span style=\"color: #00af00; text-decoration-color: #00af00\">256</span>)           │               <span style=\"color: #00af00; text-decoration-color: #00af00\">0</span> │\n",
       "├──────────────────────────────────────┼─────────────────────────────┼─────────────────┤\n",
       "│ conv2d_48 (<span style=\"color: #0087ff; text-decoration-color: #0087ff\">Conv2D</span>)                   │ (<span style=\"color: #00d7ff; text-decoration-color: #00d7ff\">None</span>, <span style=\"color: #00af00; text-decoration-color: #00af00\">6</span>, <span style=\"color: #00af00; text-decoration-color: #00af00\">6</span>, <span style=\"color: #00af00; text-decoration-color: #00af00\">512</span>)           │       <span style=\"color: #00af00; text-decoration-color: #00af00\">1,180,160</span> │\n",
       "├──────────────────────────────────────┼─────────────────────────────┼─────────────────┤\n",
       "│ conv2d_49 (<span style=\"color: #0087ff; text-decoration-color: #0087ff\">Conv2D</span>)                   │ (<span style=\"color: #00d7ff; text-decoration-color: #00d7ff\">None</span>, <span style=\"color: #00af00; text-decoration-color: #00af00\">4</span>, <span style=\"color: #00af00; text-decoration-color: #00af00\">4</span>, <span style=\"color: #00af00; text-decoration-color: #00af00\">512</span>)           │       <span style=\"color: #00af00; text-decoration-color: #00af00\">2,359,808</span> │\n",
       "├──────────────────────────────────────┼─────────────────────────────┼─────────────────┤\n",
       "│ max_pooling2d_24 (<span style=\"color: #0087ff; text-decoration-color: #0087ff\">MaxPooling2D</span>)      │ (<span style=\"color: #00d7ff; text-decoration-color: #00d7ff\">None</span>, <span style=\"color: #00af00; text-decoration-color: #00af00\">2</span>, <span style=\"color: #00af00; text-decoration-color: #00af00\">2</span>, <span style=\"color: #00af00; text-decoration-color: #00af00\">512</span>)           │               <span style=\"color: #00af00; text-decoration-color: #00af00\">0</span> │\n",
       "├──────────────────────────────────────┼─────────────────────────────┼─────────────────┤\n",
       "│ dropout_9 (<span style=\"color: #0087ff; text-decoration-color: #0087ff\">Dropout</span>)                  │ (<span style=\"color: #00d7ff; text-decoration-color: #00d7ff\">None</span>, <span style=\"color: #00af00; text-decoration-color: #00af00\">2</span>, <span style=\"color: #00af00; text-decoration-color: #00af00\">2</span>, <span style=\"color: #00af00; text-decoration-color: #00af00\">512</span>)           │               <span style=\"color: #00af00; text-decoration-color: #00af00\">0</span> │\n",
       "├──────────────────────────────────────┼─────────────────────────────┼─────────────────┤\n",
       "│ flatten_4 (<span style=\"color: #0087ff; text-decoration-color: #0087ff\">Flatten</span>)                  │ (<span style=\"color: #00d7ff; text-decoration-color: #00d7ff\">None</span>, <span style=\"color: #00af00; text-decoration-color: #00af00\">2048</span>)                │               <span style=\"color: #00af00; text-decoration-color: #00af00\">0</span> │\n",
       "├──────────────────────────────────────┼─────────────────────────────┼─────────────────┤\n",
       "│ dense_10 (<span style=\"color: #0087ff; text-decoration-color: #0087ff\">Dense</span>)                     │ (<span style=\"color: #00d7ff; text-decoration-color: #00d7ff\">None</span>, <span style=\"color: #00af00; text-decoration-color: #00af00\">1500</span>)                │       <span style=\"color: #00af00; text-decoration-color: #00af00\">3,073,500</span> │\n",
       "├──────────────────────────────────────┼─────────────────────────────┼─────────────────┤\n",
       "│ dropout_10 (<span style=\"color: #0087ff; text-decoration-color: #0087ff\">Dropout</span>)                 │ (<span style=\"color: #00d7ff; text-decoration-color: #00d7ff\">None</span>, <span style=\"color: #00af00; text-decoration-color: #00af00\">1500</span>)                │               <span style=\"color: #00af00; text-decoration-color: #00af00\">0</span> │\n",
       "├──────────────────────────────────────┼─────────────────────────────┼─────────────────┤\n",
       "│ dense_11 (<span style=\"color: #0087ff; text-decoration-color: #0087ff\">Dense</span>)                     │ (<span style=\"color: #00d7ff; text-decoration-color: #00d7ff\">None</span>, <span style=\"color: #00af00; text-decoration-color: #00af00\">10</span>)                  │          <span style=\"color: #00af00; text-decoration-color: #00af00\">15,010</span> │\n",
       "└──────────────────────────────────────┴─────────────────────────────┴─────────────────┘\n",
       "</pre>\n"
      ],
      "text/plain": [
       "┏━━━━━━━━━━━━━━━━━━━━━━━━━━━━━━━━━━━━━━┳━━━━━━━━━━━━━━━━━━━━━━━━━━━━━┳━━━━━━━━━━━━━━━━━┓\n",
       "┃\u001b[1m \u001b[0m\u001b[1mLayer (type)                        \u001b[0m\u001b[1m \u001b[0m┃\u001b[1m \u001b[0m\u001b[1mOutput Shape               \u001b[0m\u001b[1m \u001b[0m┃\u001b[1m \u001b[0m\u001b[1m        Param #\u001b[0m\u001b[1m \u001b[0m┃\n",
       "┡━━━━━━━━━━━━━━━━━━━━━━━━━━━━━━━━━━━━━━╇━━━━━━━━━━━━━━━━━━━━━━━━━━━━━╇━━━━━━━━━━━━━━━━━┩\n",
       "│ conv2d_40 (\u001b[38;5;33mConv2D\u001b[0m)                   │ (\u001b[38;5;45mNone\u001b[0m, \u001b[38;5;34m128\u001b[0m, \u001b[38;5;34m128\u001b[0m, \u001b[38;5;34m32\u001b[0m)        │             \u001b[38;5;34m896\u001b[0m │\n",
       "├──────────────────────────────────────┼─────────────────────────────┼─────────────────┤\n",
       "│ conv2d_41 (\u001b[38;5;33mConv2D\u001b[0m)                   │ (\u001b[38;5;45mNone\u001b[0m, \u001b[38;5;34m126\u001b[0m, \u001b[38;5;34m126\u001b[0m, \u001b[38;5;34m32\u001b[0m)        │           \u001b[38;5;34m9,248\u001b[0m │\n",
       "├──────────────────────────────────────┼─────────────────────────────┼─────────────────┤\n",
       "│ max_pooling2d_20 (\u001b[38;5;33mMaxPooling2D\u001b[0m)      │ (\u001b[38;5;45mNone\u001b[0m, \u001b[38;5;34m63\u001b[0m, \u001b[38;5;34m63\u001b[0m, \u001b[38;5;34m32\u001b[0m)          │               \u001b[38;5;34m0\u001b[0m │\n",
       "├──────────────────────────────────────┼─────────────────────────────┼─────────────────┤\n",
       "│ conv2d_42 (\u001b[38;5;33mConv2D\u001b[0m)                   │ (\u001b[38;5;45mNone\u001b[0m, \u001b[38;5;34m63\u001b[0m, \u001b[38;5;34m63\u001b[0m, \u001b[38;5;34m64\u001b[0m)          │          \u001b[38;5;34m18,496\u001b[0m │\n",
       "├──────────────────────────────────────┼─────────────────────────────┼─────────────────┤\n",
       "│ conv2d_43 (\u001b[38;5;33mConv2D\u001b[0m)                   │ (\u001b[38;5;45mNone\u001b[0m, \u001b[38;5;34m61\u001b[0m, \u001b[38;5;34m61\u001b[0m, \u001b[38;5;34m64\u001b[0m)          │          \u001b[38;5;34m36,928\u001b[0m │\n",
       "├──────────────────────────────────────┼─────────────────────────────┼─────────────────┤\n",
       "│ max_pooling2d_21 (\u001b[38;5;33mMaxPooling2D\u001b[0m)      │ (\u001b[38;5;45mNone\u001b[0m, \u001b[38;5;34m30\u001b[0m, \u001b[38;5;34m30\u001b[0m, \u001b[38;5;34m64\u001b[0m)          │               \u001b[38;5;34m0\u001b[0m │\n",
       "├──────────────────────────────────────┼─────────────────────────────┼─────────────────┤\n",
       "│ conv2d_44 (\u001b[38;5;33mConv2D\u001b[0m)                   │ (\u001b[38;5;45mNone\u001b[0m, \u001b[38;5;34m30\u001b[0m, \u001b[38;5;34m30\u001b[0m, \u001b[38;5;34m128\u001b[0m)         │          \u001b[38;5;34m73,856\u001b[0m │\n",
       "├──────────────────────────────────────┼─────────────────────────────┼─────────────────┤\n",
       "│ conv2d_45 (\u001b[38;5;33mConv2D\u001b[0m)                   │ (\u001b[38;5;45mNone\u001b[0m, \u001b[38;5;34m28\u001b[0m, \u001b[38;5;34m28\u001b[0m, \u001b[38;5;34m128\u001b[0m)         │         \u001b[38;5;34m147,584\u001b[0m │\n",
       "├──────────────────────────────────────┼─────────────────────────────┼─────────────────┤\n",
       "│ max_pooling2d_22 (\u001b[38;5;33mMaxPooling2D\u001b[0m)      │ (\u001b[38;5;45mNone\u001b[0m, \u001b[38;5;34m14\u001b[0m, \u001b[38;5;34m14\u001b[0m, \u001b[38;5;34m128\u001b[0m)         │               \u001b[38;5;34m0\u001b[0m │\n",
       "├──────────────────────────────────────┼─────────────────────────────┼─────────────────┤\n",
       "│ conv2d_46 (\u001b[38;5;33mConv2D\u001b[0m)                   │ (\u001b[38;5;45mNone\u001b[0m, \u001b[38;5;34m14\u001b[0m, \u001b[38;5;34m14\u001b[0m, \u001b[38;5;34m256\u001b[0m)         │         \u001b[38;5;34m295,168\u001b[0m │\n",
       "├──────────────────────────────────────┼─────────────────────────────┼─────────────────┤\n",
       "│ conv2d_47 (\u001b[38;5;33mConv2D\u001b[0m)                   │ (\u001b[38;5;45mNone\u001b[0m, \u001b[38;5;34m12\u001b[0m, \u001b[38;5;34m12\u001b[0m, \u001b[38;5;34m256\u001b[0m)         │         \u001b[38;5;34m590,080\u001b[0m │\n",
       "├──────────────────────────────────────┼─────────────────────────────┼─────────────────┤\n",
       "│ max_pooling2d_23 (\u001b[38;5;33mMaxPooling2D\u001b[0m)      │ (\u001b[38;5;45mNone\u001b[0m, \u001b[38;5;34m6\u001b[0m, \u001b[38;5;34m6\u001b[0m, \u001b[38;5;34m256\u001b[0m)           │               \u001b[38;5;34m0\u001b[0m │\n",
       "├──────────────────────────────────────┼─────────────────────────────┼─────────────────┤\n",
       "│ conv2d_48 (\u001b[38;5;33mConv2D\u001b[0m)                   │ (\u001b[38;5;45mNone\u001b[0m, \u001b[38;5;34m6\u001b[0m, \u001b[38;5;34m6\u001b[0m, \u001b[38;5;34m512\u001b[0m)           │       \u001b[38;5;34m1,180,160\u001b[0m │\n",
       "├──────────────────────────────────────┼─────────────────────────────┼─────────────────┤\n",
       "│ conv2d_49 (\u001b[38;5;33mConv2D\u001b[0m)                   │ (\u001b[38;5;45mNone\u001b[0m, \u001b[38;5;34m4\u001b[0m, \u001b[38;5;34m4\u001b[0m, \u001b[38;5;34m512\u001b[0m)           │       \u001b[38;5;34m2,359,808\u001b[0m │\n",
       "├──────────────────────────────────────┼─────────────────────────────┼─────────────────┤\n",
       "│ max_pooling2d_24 (\u001b[38;5;33mMaxPooling2D\u001b[0m)      │ (\u001b[38;5;45mNone\u001b[0m, \u001b[38;5;34m2\u001b[0m, \u001b[38;5;34m2\u001b[0m, \u001b[38;5;34m512\u001b[0m)           │               \u001b[38;5;34m0\u001b[0m │\n",
       "├──────────────────────────────────────┼─────────────────────────────┼─────────────────┤\n",
       "│ dropout_9 (\u001b[38;5;33mDropout\u001b[0m)                  │ (\u001b[38;5;45mNone\u001b[0m, \u001b[38;5;34m2\u001b[0m, \u001b[38;5;34m2\u001b[0m, \u001b[38;5;34m512\u001b[0m)           │               \u001b[38;5;34m0\u001b[0m │\n",
       "├──────────────────────────────────────┼─────────────────────────────┼─────────────────┤\n",
       "│ flatten_4 (\u001b[38;5;33mFlatten\u001b[0m)                  │ (\u001b[38;5;45mNone\u001b[0m, \u001b[38;5;34m2048\u001b[0m)                │               \u001b[38;5;34m0\u001b[0m │\n",
       "├──────────────────────────────────────┼─────────────────────────────┼─────────────────┤\n",
       "│ dense_10 (\u001b[38;5;33mDense\u001b[0m)                     │ (\u001b[38;5;45mNone\u001b[0m, \u001b[38;5;34m1500\u001b[0m)                │       \u001b[38;5;34m3,073,500\u001b[0m │\n",
       "├──────────────────────────────────────┼─────────────────────────────┼─────────────────┤\n",
       "│ dropout_10 (\u001b[38;5;33mDropout\u001b[0m)                 │ (\u001b[38;5;45mNone\u001b[0m, \u001b[38;5;34m1500\u001b[0m)                │               \u001b[38;5;34m0\u001b[0m │\n",
       "├──────────────────────────────────────┼─────────────────────────────┼─────────────────┤\n",
       "│ dense_11 (\u001b[38;5;33mDense\u001b[0m)                     │ (\u001b[38;5;45mNone\u001b[0m, \u001b[38;5;34m10\u001b[0m)                  │          \u001b[38;5;34m15,010\u001b[0m │\n",
       "└──────────────────────────────────────┴─────────────────────────────┴─────────────────┘\n"
      ]
     },
     "metadata": {},
     "output_type": "display_data"
    },
    {
     "data": {
      "text/html": [
       "<pre style=\"white-space:pre;overflow-x:auto;line-height:normal;font-family:Menlo,'DejaVu Sans Mono',consolas,'Courier New',monospace\"><span style=\"font-weight: bold\"> Total params: </span><span style=\"color: #00af00; text-decoration-color: #00af00\">7,800,734</span> (29.76 MB)\n",
       "</pre>\n"
      ],
      "text/plain": [
       "\u001b[1m Total params: \u001b[0m\u001b[38;5;34m7,800,734\u001b[0m (29.76 MB)\n"
      ]
     },
     "metadata": {},
     "output_type": "display_data"
    },
    {
     "data": {
      "text/html": [
       "<pre style=\"white-space:pre;overflow-x:auto;line-height:normal;font-family:Menlo,'DejaVu Sans Mono',consolas,'Courier New',monospace\"><span style=\"font-weight: bold\"> Trainable params: </span><span style=\"color: #00af00; text-decoration-color: #00af00\">7,800,734</span> (29.76 MB)\n",
       "</pre>\n"
      ],
      "text/plain": [
       "\u001b[1m Trainable params: \u001b[0m\u001b[38;5;34m7,800,734\u001b[0m (29.76 MB)\n"
      ]
     },
     "metadata": {},
     "output_type": "display_data"
    },
    {
     "data": {
      "text/html": [
       "<pre style=\"white-space:pre;overflow-x:auto;line-height:normal;font-family:Menlo,'DejaVu Sans Mono',consolas,'Courier New',monospace\"><span style=\"font-weight: bold\"> Non-trainable params: </span><span style=\"color: #00af00; text-decoration-color: #00af00\">0</span> (0.00 B)\n",
       "</pre>\n"
      ],
      "text/plain": [
       "\u001b[1m Non-trainable params: \u001b[0m\u001b[38;5;34m0\u001b[0m (0.00 B)\n"
      ]
     },
     "metadata": {},
     "output_type": "display_data"
    }
   ],
   "source": [
    "model.summary()  # traing parameters are now only 29mb from 281mb so training speed is boosted rapidly"
   ]
  },
  {
   "cell_type": "code",
   "execution_count": 92,
   "id": "6cc9fd1e",
   "metadata": {},
   "outputs": [
    {
     "name": "stdout",
     "output_type": "stream",
     "text": [
      "Epoch 1/10\n",
      "\u001b[1m574/574\u001b[0m \u001b[32m━━━━━━━━━━━━━━━━━━━━\u001b[0m\u001b[37m\u001b[0m \u001b[1m231s\u001b[0m 397ms/step - accuracy: 0.3895 - loss: 1.7191 - val_accuracy: 0.7529 - val_loss: 0.6903\n",
      "Epoch 2/10\n",
      "\u001b[1m574/574\u001b[0m \u001b[32m━━━━━━━━━━━━━━━━━━━━\u001b[0m\u001b[37m\u001b[0m \u001b[1m245s\u001b[0m 428ms/step - accuracy: 0.7960 - loss: 0.5837 - val_accuracy: 0.8201 - val_loss: 0.5449\n",
      "Epoch 3/10\n",
      "\u001b[1m574/574\u001b[0m \u001b[32m━━━━━━━━━━━━━━━━━━━━\u001b[0m\u001b[37m\u001b[0m \u001b[1m246s\u001b[0m 429ms/step - accuracy: 0.8572 - loss: 0.4137 - val_accuracy: 0.8822 - val_loss: 0.3448\n",
      "Epoch 4/10\n",
      "\u001b[1m574/574\u001b[0m \u001b[32m━━━━━━━━━━━━━━━━━━━━\u001b[0m\u001b[37m\u001b[0m \u001b[1m248s\u001b[0m 432ms/step - accuracy: 0.9019 - loss: 0.2828 - val_accuracy: 0.9069 - val_loss: 0.2748\n",
      "Epoch 5/10\n",
      "\u001b[1m574/574\u001b[0m \u001b[32m━━━━━━━━━━━━━━━━━━━━\u001b[0m\u001b[37m\u001b[0m \u001b[1m246s\u001b[0m 429ms/step - accuracy: 0.9253 - loss: 0.2131 - val_accuracy: 0.9226 - val_loss: 0.2277\n",
      "Epoch 6/10\n",
      "\u001b[1m574/574\u001b[0m \u001b[32m━━━━━━━━━━━━━━━━━━━━\u001b[0m\u001b[37m\u001b[0m \u001b[1m249s\u001b[0m 433ms/step - accuracy: 0.9370 - loss: 0.1834 - val_accuracy: 0.9291 - val_loss: 0.2049\n",
      "Epoch 7/10\n",
      "\u001b[1m574/574\u001b[0m \u001b[32m━━━━━━━━━━━━━━━━━━━━\u001b[0m\u001b[37m\u001b[0m \u001b[1m260s\u001b[0m 453ms/step - accuracy: 0.9558 - loss: 0.1331 - val_accuracy: 0.9298 - val_loss: 0.2146\n",
      "Epoch 8/10\n",
      "\u001b[1m574/574\u001b[0m \u001b[32m━━━━━━━━━━━━━━━━━━━━\u001b[0m\u001b[37m\u001b[0m \u001b[1m267s\u001b[0m 465ms/step - accuracy: 0.9637 - loss: 0.1067 - val_accuracy: 0.9346 - val_loss: 0.1977\n",
      "Epoch 9/10\n",
      "\u001b[1m574/574\u001b[0m \u001b[32m━━━━━━━━━━━━━━━━━━━━\u001b[0m\u001b[37m\u001b[0m \u001b[1m266s\u001b[0m 464ms/step - accuracy: 0.9688 - loss: 0.0890 - val_accuracy: 0.9197 - val_loss: 0.2615\n",
      "Epoch 10/10\n",
      "\u001b[1m574/574\u001b[0m \u001b[32m━━━━━━━━━━━━━━━━━━━━\u001b[0m\u001b[37m\u001b[0m \u001b[1m264s\u001b[0m 460ms/step - accuracy: 0.9702 - loss: 0.0903 - val_accuracy: 0.9398 - val_loss: 0.1833\n"
     ]
    }
   ],
   "source": [
    "model_accuracy = model.fit(x=training_set,validation_data = validation_set,epochs=10)"
   ]
  },
  {
   "cell_type": "code",
   "execution_count": 93,
   "id": "98917e9f",
   "metadata": {},
   "outputs": [
    {
     "name": "stdout",
     "output_type": "stream",
     "text": [
      "\u001b[1m574/574\u001b[0m \u001b[32m━━━━━━━━━━━━━━━━━━━━\u001b[0m\u001b[37m\u001b[0m \u001b[1m54s\u001b[0m 95ms/step - accuracy: 0.9756 - loss: 0.0671\n"
     ]
    }
   ],
   "source": [
    "train_loss , train_accuracy = model.evaluate(training_set)"
   ]
  },
  {
   "cell_type": "code",
   "execution_count": 94,
   "id": "d30f2ead",
   "metadata": {},
   "outputs": [
    {
     "name": "stdout",
     "output_type": "stream",
     "text": [
      "0.060721904039382935 0.9776505827903748\n"
     ]
    }
   ],
   "source": [
    "print(train_loss,train_accuracy)"
   ]
  },
  {
   "cell_type": "code",
   "execution_count": 95,
   "id": "b7c8603b",
   "metadata": {},
   "outputs": [
    {
     "name": "stdout",
     "output_type": "stream",
     "text": [
      "\u001b[1m144/144\u001b[0m \u001b[32m━━━━━━━━━━━━━━━━━━━━\u001b[0m\u001b[37m\u001b[0m \u001b[1m15s\u001b[0m 101ms/step - accuracy: 0.9385 - loss: 0.1757\n"
     ]
    }
   ],
   "source": [
    "val_loss , val_accuracy = model.evaluate(validation_set)"
   ]
  },
  {
   "cell_type": "code",
   "execution_count": 96,
   "id": "8927d30f",
   "metadata": {},
   "outputs": [
    {
     "name": "stdout",
     "output_type": "stream",
     "text": [
      "0.18326953053474426 0.9398037195205688\n"
     ]
    }
   ],
   "source": [
    "print(val_loss,val_accuracy)"
   ]
  },
  {
   "cell_type": "code",
   "execution_count": 98,
   "id": "77cda36c",
   "metadata": {},
   "outputs": [],
   "source": [
    "model.save(\"trained_model.keras\")"
   ]
  },
  {
   "cell_type": "code",
   "execution_count": 99,
   "id": "ccbc6a05",
   "metadata": {},
   "outputs": [
    {
     "data": {
      "text/plain": [
       "{'accuracy': [0.5698010325431824,\n",
       "  0.819351315498352,\n",
       "  0.8711365461349487,\n",
       "  0.9111474752426147,\n",
       "  0.930607795715332,\n",
       "  0.9475606679916382,\n",
       "  0.9552466869354248,\n",
       "  0.9659307599067688,\n",
       "  0.9713818430900574,\n",
       "  0.9737803339958191],\n",
       " 'loss': [1.2255680561065674,\n",
       "  0.5217311382293701,\n",
       "  0.36781367659568787,\n",
       "  0.25555986166000366,\n",
       "  0.19950732588768005,\n",
       "  0.1549556851387024,\n",
       "  0.13023245334625244,\n",
       "  0.10234363377094269,\n",
       "  0.08350734412670135,\n",
       "  0.07574654370546341],\n",
       " 'val_accuracy': [0.75288987159729,\n",
       "  0.820065438747406,\n",
       "  0.8822246193885803,\n",
       "  0.9068702459335327,\n",
       "  0.9225736260414124,\n",
       "  0.9291166663169861,\n",
       "  0.9297710061073303,\n",
       "  0.934569239616394,\n",
       "  0.9197382926940918,\n",
       "  0.9398037195205688],\n",
       " 'val_loss': [0.690290629863739,\n",
       "  0.5448518395423889,\n",
       "  0.34480467438697815,\n",
       "  0.2747712731361389,\n",
       "  0.22774502635002136,\n",
       "  0.20487511157989502,\n",
       "  0.2146391123533249,\n",
       "  0.19765810668468475,\n",
       "  0.26149043440818787,\n",
       "  0.18326954543590546]}"
      ]
     },
     "execution_count": 99,
     "metadata": {},
     "output_type": "execute_result"
    }
   ],
   "source": [
    "model_accuracy.history"
   ]
  },
  {
   "cell_type": "code",
   "execution_count": 100,
   "id": "27b15f06",
   "metadata": {},
   "outputs": [],
   "source": [
    "import json\n",
    "with open(\"training_hist.json\",\"w\") as f:\n",
    "    json.dump(model_accuracy.history,f)"
   ]
  },
  {
   "cell_type": "code",
   "execution_count": 105,
   "id": "e409a06c",
   "metadata": {},
   "outputs": [
    {
     "data": {
      "image/png": "[encoded data removed]",
      "text/plain": [
       "<Figure size 640x480 with 1 Axes>"
      ]
     },
     "metadata": {},
     "output_type": "display_data"
    }
   ],
   "source": [
    "# Accuracy Visualization\n",
    "epochs = [i for i in range(1,11)]\n",
    "plt.plot(epochs,model_accuracy.history['accuracy'],color = 'red',label = 'Training Accuracy')\n",
    "plt.plot(epochs,model_accuracy.history['val_accuracy'],color = 'blue',label = 'Validation Accuracy')\n",
    "plt.xlabel(\"Number of Epochs\")\n",
    "plt.ylabel(\"Accuracy Result\")\n",
    "plt.title(\"Visualization of Accuracy Result\")\n",
    "plt.legend()\n",
    "plt.show()"
   ]
  },
  {
   "cell_type": "code",
   "execution_count": 106,
   "id": "eefbffc5",
   "metadata": {},
   "outputs": [
    {
     "data": {
      "text/plain": [
       "['Tomato___Bacterial_spot',\n",
       " 'Tomato___Early_blight',\n",
       " 'Tomato___Late_blight',\n",
       " 'Tomato___Leaf_Mold',\n",
       " 'Tomato___Septoria_leaf_spot',\n",
       " 'Tomato___Spider_mites Two-spotted_spider_mite',\n",
       " 'Tomato___Target_Spot',\n",
       " 'Tomato___Tomato_Yellow_Leaf_Curl_Virus',\n",
       " 'Tomato___Tomato_mosaic_virus',\n",
       " 'Tomato___healthy']"
      ]
     },
     "execution_count": 106,
     "metadata": {},
     "output_type": "execute_result"
    }
   ],
   "source": [
    "class_name = validation_set.class_names\n",
    "class_name"
   ]
  },
  {
   "cell_type": "code",
   "execution_count": 107,
   "id": "b3adcdbd",
   "metadata": {},
   "outputs": [
    {
     "name": "stdout",
     "output_type": "stream",
     "text": [
      "Found 4585 files belonging to 10 classes.\n"
     ]
    }
   ],
   "source": [
    "test_set =  tf.keras.utils.image_dataset_from_directory(\n",
    "    'valid',\n",
    "    labels=\"inferred\",\n",
    "    label_mode=\"categorical\",\n",
    "    class_names=None,\n",
    "    color_mode=\"rgb\",\n",
    "    batch_size=32,\n",
    "    image_size=(128, 128),\n",
    "    shuffle=False,\n",
    "    seed=None,\n",
    "    validation_split=None,\n",
    "    subset=None,\n",
    "    interpolation=\"bilinear\",\n",
    "    follow_links=False,\n",
    "    crop_to_aspect_ratio=False,\n",
    "    \n",
    ")"
   ]
  },
  {
   "cell_type": "code",
   "execution_count": 108,
   "id": "be917de1",
   "metadata": {},
   "outputs": [
    {
     "name": "stdout",
     "output_type": "stream",
     "text": [
      "\u001b[1m144/144\u001b[0m \u001b[32m━━━━━━━━━━━━━━━━━━━━\u001b[0m\u001b[37m\u001b[0m \u001b[1m14s\u001b[0m 94ms/step\n"
     ]
    },
    {
     "data": {
      "text/plain": [
       "(array([[9.9952626e-01, 2.6198014e-04, 1.0544129e-06, ..., 1.8831360e-04,\n",
       "         1.1474927e-09, 2.7270136e-08],\n",
       "        [9.9999845e-01, 6.8696767e-07, 7.8732159e-09, ..., 8.2371673e-07,\n",
       "         2.8161371e-12, 1.1044960e-10],\n",
       "        [9.9999928e-01, 5.9311532e-07, 1.9764837e-08, ..., 1.3179000e-07,\n",
       "         5.9134993e-12, 5.0308507e-10],\n",
       "        ...,\n",
       "        [1.7593878e-08, 5.8034810e-10, 2.8199800e-06, ..., 1.0693777e-09,\n",
       "         5.4589862e-09, 9.9997330e-01],\n",
       "        [2.7488925e-10, 3.1684642e-12, 4.2883556e-08, ..., 5.8161934e-12,\n",
       "         2.7438574e-11, 9.9999952e-01],\n",
       "        [1.2809337e-10, 2.1870034e-13, 2.4891455e-07, ..., 4.2666361e-12,\n",
       "         3.3742040e-11, 9.9999952e-01]], dtype=float32),\n",
       " (4585, 10))"
      ]
     },
     "execution_count": 108,
     "metadata": {},
     "output_type": "execute_result"
    }
   ],
   "source": [
    "y_pred = model.predict(test_set)\n",
    "y_pred,y_pred.shape"
   ]
  },
  {
   "cell_type": "code",
   "execution_count": 109,
   "id": "d5a1dc21",
   "metadata": {},
   "outputs": [
    {
     "data": {
      "text/plain": [
       "<tf.Tensor: shape=(4585,), dtype=int64, numpy=array([0, 0, 0, ..., 9, 9, 9], dtype=int64)>"
      ]
     },
     "execution_count": 109,
     "metadata": {},
     "output_type": "execute_result"
    }
   ],
   "source": [
    "predicted_categories = tf.argmax(y_pred,axis=1) ## returns the index of the maximun probability class in column-wise fashion\n",
    "predicted_categories"
   ]
  },
  {
   "cell_type": "code",
   "execution_count": 110,
   "id": "53808e29",
   "metadata": {},
   "outputs": [
    {
     "data": {
      "text/plain": [
       "<tf.Tensor: shape=(4585, 10), dtype=float32, numpy=\n",
       "array([[1., 0., 0., ..., 0., 0., 0.],\n",
       "       [1., 0., 0., ..., 0., 0., 0.],\n",
       "       [1., 0., 0., ..., 0., 0., 0.],\n",
       "       ...,\n",
       "       [0., 0., 0., ..., 0., 0., 1.],\n",
       "       [0., 0., 0., ..., 0., 0., 1.],\n",
       "       [0., 0., 0., ..., 0., 0., 1.]], dtype=float32)>"
      ]
     },
     "execution_count": 110,
     "metadata": {},
     "output_type": "execute_result"
    }
   ],
   "source": [
    "true_categories = tf.concat([y for x,y in test_set],axis=0)\n",
    "true_categories"
   ]
  },
  {
   "cell_type": "code",
   "execution_count": 113,
   "id": "29def6ac",
   "metadata": {},
   "outputs": [
    {
     "data": {
      "text/plain": [
       "<tf.Tensor: shape=(4585,), dtype=int64, numpy=array([0, 0, 0, ..., 9, 9, 9], dtype=int64)>"
      ]
     },
     "execution_count": 113,
     "metadata": {},
     "output_type": "execute_result"
    }
   ],
   "source": [
    "Y_true = tf.argmax(true_categories,axis=1)\n",
    "Y_true"
   ]
  },
  {
   "cell_type": "code",
   "execution_count": 116,
   "id": "d96765cb",
   "metadata": {},
   "outputs": [],
   "source": [
    "from sklearn.metrics import classification_report,confusion_matrix"
   ]
  },
  {
   "cell_type": "code",
   "execution_count": 115,
   "id": "8faef0ae",
   "metadata": {},
   "outputs": [
    {
     "data": {
      "text/plain": [
       "'                                               precision    recall  f1-score   support\\n\\n                      Tomato___Bacterial_spot       0.96      0.97      0.96       425\\n                        Tomato___Early_blight       0.85      0.97      0.91       480\\n                         Tomato___Late_blight       0.98      0.94      0.95       463\\n                           Tomato___Leaf_Mold       0.99      0.92      0.95       470\\n                  Tomato___Septoria_leaf_spot       0.92      0.85      0.88       436\\nTomato___Spider_mites Two-spotted_spider_mite       0.98      0.84      0.90       435\\n                         Tomato___Target_Spot       0.84      0.95      0.89       457\\n       Tomato___Tomato_Yellow_Leaf_Curl_Virus       0.98      0.98      0.98       490\\n                 Tomato___Tomato_mosaic_virus       0.95      1.00      0.97       448\\n                             Tomato___healthy       0.99      0.98      0.98       481\\n\\n                                     accuracy                           0.94      4585\\n                                    macro avg       0.94      0.94      0.94      4585\\n                                 weighted avg       0.94      0.94      0.94      4585\\n'"
      ]
     },
     "execution_count": 115,
     "metadata": {},
     "output_type": "execute_result"
    }
   ],
   "source": [
    "classification_report(Y_true,predicted_categories,target_names=class_name)"
   ]
  },
  {
   "cell_type": "code",
   "execution_count": 118,
   "id": "5482996a",
   "metadata": {},
   "outputs": [
    {
     "data": {
      "text/plain": [
       "(10, 10)"
      ]
     },
     "execution_count": 118,
     "metadata": {},
     "output_type": "execute_result"
    }
   ],
   "source": [
    "cm = confusion_matrix(Y_true,predicted_categories)\n",
    "cm\n",
    "cm.shape"
   ]
  },
  {
   "cell_type": "code",
   "execution_count": 127,
   "id": "8b967dc0",
   "metadata": {},
   "outputs": [
    {
     "data": {
      "image/png": "[encoded data removed]",
      "text/plain": [
       "<Figure size 2000x2000 with 2 Axes>"
      ]
     },
     "metadata": {},
     "output_type": "display_data"
    }
   ],
   "source": [
    "plt.figure(figsize=(20,20))\n",
    "sns.heatmap(cm,annot=True)\n",
    "plt.xlabel(\"Predicted Class\",fontsize=20)\n",
    "plt.ylabel(\"Actual Class\",fontsize=20)\n",
    "plt.title(\"Tomato Disease Prediction Confusion Matrix\",fontsize = 25)\n",
    "plt.show()"
   ]
  },
  {
   "cell_type": "code",
   "execution_count": null,
   "id": "3ab23322",
   "metadata": {},
   "outputs": [],
   "source": []
  },
  {
   "cell_type": "code",
   "execution_count": null,
   "id": "b37b7fbf",
   "metadata": {},
   "outputs": [],
   "source": []
  },
  {
   "cell_type": "code",
   "execution_count": null,
   "id": "07c56ee9",
   "metadata": {},
   "outputs": [],
   "source": []
  }
 ],
 "metadata": {
  "kernelspec": {
   "display_name": "Python 3 (ipykernel)",
   "language": "python",
   "name": "python3"
  },
  "language_info": {
   "codemirror_mode": {
    "name": "ipython",
    "version": 3
   },
   "file_extension": ".py",
   "mimetype": "text/x-python",
   "name": "python",
   "nbconvert_exporter": "python",
   "pygments_lexer": "ipython3",
   "version": "3.11.4"
  }
 },
 "nbformat": 4,
 "nbformat_minor": 5
}
